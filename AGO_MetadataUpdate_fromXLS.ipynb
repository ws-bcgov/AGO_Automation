{
 "cells": [
  {
   "cell_type": "code",
   "execution_count": 1,
   "metadata": {},
   "outputs": [],
   "source": [
    "# 2019 Wes Smith\n",
    "\n",
    "## import modules ##\n",
    "\n",
    "from arcgis.gis import GIS\n",
    "from arcgis.gis import Group\n",
    "\n",
    "import pandas as pd\n",
    "import datetime\n",
    "import html\n",
    "from html.parser import HTMLParser"
   ]
  },
  {
   "cell_type": "code",
   "execution_count": 35,
   "metadata": {},
   "outputs": [],
   "source": [
    "## Variables\n",
    "xls_file = r\"\\\\SFP.IDIR.BCGOV\\U164\\WESSMITH$\\!Python\\TESTING\\AGO_ItemsList20200206.xlsx\"\n",
    "username = \"WESSMITH.BC\""
   ]
  },
  {
   "cell_type": "code",
   "execution_count": 38,
   "metadata": {
    "scrolled": true
   },
   "outputs": [],
   "source": [
    "# Read excel file\n",
    "df=pd.read_excel(xls_file)"
   ]
  },
  {
   "cell_type": "code",
   "execution_count": 36,
   "metadata": {},
   "outputs": [
    {
     "name": "stdout",
     "output_type": "stream",
     "text": [
      "Enter password: ········\n"
     ]
    }
   ],
   "source": [
    "# Log on to AGO\n",
    "agol = GIS(username=username)"
   ]
  },
  {
   "cell_type": "code",
   "execution_count": 39,
   "metadata": {},
   "outputs": [],
   "source": [
    "for index, row in df.iterrows():\n",
    "    #Formattag=row[\"Tags\"].replace(\"[\",\"\").replace(\"'\",\"\").replace(\"]\",\"\")\n",
    "    agol.content.get(row[\"Item ID\"]).update(item_properties={'title':row[\"Title\"],\\\n",
    "                                                             'snippet':row[\"Summary\"],\\\n",
    "                                                             'description':row[\"Description\"],\\\n",
    "                                                             'tags':row[\"Tags\"],\\\n",
    "                                                             'accessInformation':row[\"Credits\"],\\\n",
    "                                                             'licenseInfo':row[\"Term of Use\"]})"
   ]
  },
  {
   "cell_type": "code",
   "execution_count": 18,
   "metadata": {},
   "outputs": [
    {
     "data": {
      "text/html": [
       "<div class=\"item_container\" style=\"height: auto; overflow: hidden; border: 1px solid #cfcfcf; border-radius: 2px; background: #f6fafa; line-height: 1.21429em; padding: 10px;\">\n",
       "                    <div class=\"item_left\" style=\"width: 210px; float: left;\">\n",
       "                       <a href='https://governmentofbc.maps.arcgis.com/home/item.html?id=3ec83f10afad4cfabd2e73cef2d798c8' target='_blank'>\n",
       "                        <img src='data:image/png;base64,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' width='200' height='133' class=\"itemThumbnail\">\n",
       "                       </a>\n",
       "                    </div>\n",
       "\n",
       "                    <div class=\"item_right\"     style=\"float: none; width: auto; overflow: hidden;\">\n",
       "                        <a href='https://governmentofbc.maps.arcgis.com/home/item.html?id=3ec83f10afad4cfabd2e73cef2d798c8' target='_blank'><b>Omineca ESI Fish Hydro Acoustic Trawl Survey FS</b>\n",
       "                        </a>\n",
       "                        <br/>Hydro-acoustic trawl survey data<img src='https://governmentofbc.maps.arcgis.com/home/js/jsapi/esri/css/images/item_type_icons/layers16.png' style=\"vertical-align:middle;\">Service Definition by WESSMITH.BC\n",
       "                        <br/>Last Modified: February 06, 2020\n",
       "                        <br/>0 comments, 2 views\n",
       "                    </div>\n",
       "                </div>\n",
       "                "
      ],
      "text/plain": [
       "<Item title:\"Omineca ESI Fish Hydro Acoustic Trawl Survey FS\" type:Service Definition owner:WESSMITH.BC>"
      ]
     },
     "execution_count": 18,
     "metadata": {},
     "output_type": "execute_result"
    }
   ],
   "source": [
    "# Test to get item by itemID and check if item detail page is updated\n",
    "X=agol.content.get('3ec83f10afad4cfabd2e73cef2d798c8')\n",
    "X"
   ]
  },
  {
   "cell_type": "code",
   "execution_count": null,
   "metadata": {},
   "outputs": [],
   "source": [
    "X.update(item_properties={'accessInformation':'Published by the Ministry of Forests, Lands, Natural Resource Operations and Rural Development - Regional Operations - South Coast'})"
   ]
  }
 ],
 "metadata": {
  "kernelspec": {
   "display_name": "Python 3",
   "language": "python",
   "name": "python3"
  },
  "language_info": {
   "codemirror_mode": {
    "name": "ipython",
    "version": 3
   },
   "file_extension": ".py",
   "mimetype": "text/x-python",
   "name": "python",
   "nbconvert_exporter": "python",
   "pygments_lexer": "ipython3",
   "version": "3.6.6"
  }
 },
 "nbformat": 4,
 "nbformat_minor": 2
}

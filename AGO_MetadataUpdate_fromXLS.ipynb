{
 "cells": [
  {
   "cell_type": "code",
   "execution_count": 2,
   "metadata": {},
   "outputs": [],
   "source": [
    "# 2019 Wes Smith\n",
    "\n",
    "## import modules ##\n",
    "\n",
    "from arcgis.gis import GIS\n",
    "from arcgis.gis import Group\n",
    "\n",
    "import pandas as pd\n",
    "import datetime\n",
    "import os\n",
    "import json"
   ]
  },
  {
   "cell_type": "code",
   "execution_count": 3,
   "metadata": {},
   "outputs": [],
   "source": [
    "# String Vars\n",
    "# For AGO queries \n",
    "username = \"WESSMITH.BC\"  # script prompts for password later on\n",
    "group_name = \"Omineca ESI - Developer\"\n",
    "searchkeyword = None\n",
    "\n",
    "# Item description strings\n",
    "# Possibly used for updating AGO items (future development)\n",
    "description_str = \"\"\n",
    "summary_str = \"\"\n",
    "terms_of_use_str = \"\"\n",
    "credits_str = \"\""
   ]
  },
  {
   "cell_type": "code",
   "execution_count": 5,
   "metadata": {},
   "outputs": [
    {
     "data": {
      "text/plain": [
       "'20200206'"
      ]
     },
     "execution_count": 5,
     "metadata": {},
     "output_type": "execute_result"
    }
   ],
   "source": [
    "# Timestamp\n",
    "date_stamp = str(datetime.datetime.now().strftime(\"%x\")).replace(\"/\",\"\")\n",
    "date_stamp"
   ]
  },
  {
   "cell_type": "code",
   "execution_count": null,
   "metadata": {},
   "outputs": [],
   "source": [
    "# Path and file name for XLSX output \n",
    "directory = r\"C:\\temp\"\n",
    "filename = \"AGO_ItemsList\"\n",
    "out_f = os.path.join(directory, filename + date_stamp + \".xlsx\")"
   ]
  }
 ],
 "metadata": {
  "kernelspec": {
   "display_name": "Python 3",
   "language": "python",
   "name": "python3"
  },
  "language_info": {
   "codemirror_mode": {
    "name": "ipython",
    "version": 3
   },
   "file_extension": ".py",
   "mimetype": "text/x-python",
   "name": "python",
   "nbconvert_exporter": "python",
   "pygments_lexer": "ipython3",
   "version": "3.6.6"
  }
 },
 "nbformat": 4,
 "nbformat_minor": 2
}

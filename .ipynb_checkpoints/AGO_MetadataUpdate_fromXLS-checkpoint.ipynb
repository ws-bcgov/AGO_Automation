{
 "cells": [
  {
   "cell_type": "code",
   "execution_count": 2,
   "metadata": {},
   "outputs": [],
   "source": [
    "# 2019 Wes Smith\n",
    "\n",
    "## import modules ##\n",
    "\n",
    "from arcgis.gis import GIS\n",
    "from arcgis.gis import Group\n",
    "\n",
    "import pandas as pd\n",
    "import datetime\n",
    "import html\n",
    "from html.parser import HTMLParser"
   ]
  },
  {
   "cell_type": "code",
   "execution_count": null,
   "metadata": {},
   "outputs": [],
   "source": [
    "## Variables\n",
    "xls_file = r\"\""
   ]
  },
  {
   "cell_type": "code",
   "execution_count": 3,
   "metadata": {},
   "outputs": [],
   "source": [
    "#log on to your account,type in your username and password.\n",
    "agol = GIS(username=\"\")"
   ]
  },
  {
   "cell_type": "code",
   "execution_count": 5,
   "metadata": {
    "scrolled": true
   },
   "outputs": [
    {
     "data": {
      "text/plain": [
       "'20200206'"
      ]
     },
     "execution_count": 5,
     "metadata": {},
     "output_type": "execute_result"
    }
   ],
   "source": [
    "#reading excel file\n",
    "df=pd.read_excel(xls_file)"
   ]
  },
  {
   "cell_type": "code",
   "execution_count": null,
   "metadata": {},
   "outputs": [],
   "source": [
    "for index, row in df.iterrows():\n",
    "    print(row[\"Tags\"])"
   ]
  },
  {
   "cell_type": "code",
   "execution_count": null,
   "metadata": {},
   "outputs": [],
   "source": [
    "for index, row in df.iterrows():\n",
    "    #Formattag=row[\"Tags\"].replace(\"[\",\"\").replace(\"'\",\"\").replace(\"]\",\"\")\n",
    "    agol.content.get(row[\"Item ID\"]).update(item_properties={'title':row[\"Title\"],/\n",
    "                                                             'snippet':row[\"Summary\"],/\n",
    "                                                             'description':row[\"Description\"],/\n",
    "                                                             'tags':row[\"Tags\"],/\n",
    "                                                             'accessInformation':row[\"Credits\"],/\n",
    "                                                             'licenseInfo':row[\"Term of Use\"]})"
   ]
  },
  {
   "cell_type": "code",
   "execution_count": null,
   "metadata": {},
   "outputs": [],
   "source": [
    "# Test to get item by itemID and check if item detail page is updated\n",
    "X=agol.content.get('')\n",
    "X"
   ]
  },
  {
   "cell_type": "code",
   "execution_count": null,
   "metadata": {},
   "outputs": [],
   "source": [
    "# Update\n",
    "X.update(item_properties={'accessInformation':'Published by the Ministry of Forests, Lands, Natural Resource Operations and Rural Development - Regional Operations - South Coast'})"
   ]
  }
 ],
 "metadata": {
  "kernelspec": {
   "display_name": "Python 3",
   "language": "python",
   "name": "python3"
  },
  "language_info": {
   "codemirror_mode": {
    "name": "ipython",
    "version": 3
   },
   "file_extension": ".py",
   "mimetype": "text/x-python",
   "name": "python",
   "nbconvert_exporter": "python",
   "pygments_lexer": "ipython3",
   "version": "3.6.6"
  }
 },
 "nbformat": 4,
 "nbformat_minor": 2
}
